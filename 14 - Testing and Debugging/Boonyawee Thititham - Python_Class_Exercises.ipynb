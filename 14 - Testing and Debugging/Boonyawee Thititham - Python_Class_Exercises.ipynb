{
 "cells": [
  {
   "cell_type": "markdown",
   "metadata": {},
   "source": [
    "# Python Class Exercises\n",
    "**Topic:** Mutable Attributes & Encapsulation\n",
    "\n",
    "**Instructions:** \n",
    "- Before attempting this exercise please go through copy_in_python.ipynb\n",
    "- Complete the code in the code cells below. \n",
    "- Follow the hints and tasks in the markdown cells."
   ]
  },
  {
   "cell_type": "markdown",
   "metadata": {},
   "source": [
    "## Exercise 1: Protected List Access\n",
    "**Tasks:**\n",
    "1. Add a remove_item(item) method.\n",
    "2. Add get_items() that returns a copy.\n",
    "3. Explain what happens if _items is returned directly.\n",
    "\n",
    "**Hint:** Returning _items directly allows external code to modify it."
   ]
  },
  {
   "cell_type": "code",
   "execution_count": null,
   "metadata": {},
   "outputs": [],
   "source": [
    "class Inventory:\n",
    "    def __init__(self, owner):\n",
    "        self.owner = owner\n",
    "        self._items = []  # protected attribute\n",
    "\n",
    "    def add_item(self, item):\n",
    "        self._items.append(item)\n",
    "\n",
    "# Your solution here\n",
    "\n",
    "    def remove_item(self, item):\n",
    "        self._items.remove(item)\n",
    "\n",
    "    def get_items(self):\n",
    "        print(self._items)\n",
    "    \n",
    "\n",
    "my_stuff = Inventory(\"Ing\")\n",
    "my_stuff.add_item(\"fish sauce\")\n",
    "my_stuff.add_item(\"rice\")\n",
    "my_stuff.add_item(\"iron wok\")\n",
    "\n",
    "my_stuff.get_items() #['fish sauce', 'rice', 'iron wok']\n",
    "\n",
    "print(my_stuff._items) #['fish sauce', 'rice', 'iron wok'] because we execute in the same file\n",
    "\n",
    "my_stuff.remove_item(\"fish sauce\")\n",
    "\n",
    "print(my_stuff._items)#['rice', 'iron wok']\n",
    "\n"
   ]
  },
  {
   "cell_type": "markdown",
   "metadata": {},
   "source": [
    "## Exercise 2: Defensive Dict\n",
    "**Tasks:**\n",
    "1. Show how external changes to settings affect _settings (settings should be a `dict`).\n",
    "2. Fix it to prevent outside modifications.\n",
    "3. Add set_option(key, value) and get_option(key) methods.\n",
    "\n",
    "**Hint:** Use dict.copy() in __init__ and when returning."
   ]
  },
  {
   "cell_type": "code",
   "execution_count": null,
   "metadata": {},
   "outputs": [],
   "source": [
    "class Preferences:\n",
    "    def __init__(self, settings):\n",
    "        self._settings = settings\n",
    "\n",
    "# Your solution here"
   ]
  },
  {
   "cell_type": "markdown",
   "metadata": {},
   "source": [
    "## Exercise 3: Read-only Property\n",
    "**Tasks:**\n",
    "1. Add a property scores for reading only.\n",
    "2. Explain why returning _scores directly is unsafe.\n",
    "\n",
    "**Hint:** Return a copy of the dictionary for read-only access."
   ]
  },
  {
   "cell_type": "code",
   "execution_count": null,
   "metadata": {},
   "outputs": [],
   "source": [
    "class Scoreboard:\n",
    "    def __init__(self):\n",
    "        self._scores = {}\n",
    "\n",
    "    def update_score(self, player, points):\n",
    "        self._scores[player] = points\n",
    "\n",
    "# Your solution here"
   ]
  },
  {
   "cell_type": "markdown",
   "metadata": {},
   "source": [
    "## Exercise 4: Playlist\n",
    "**Tasks:**\n",
    "1. Add remove_song(song) method.\n",
    "2. Add get_songs() returning a copy.\n",
    "\n",
    "**Hint:** Returning a copy prevents external modification."
   ]
  },
  {
   "cell_type": "code",
   "execution_count": null,
   "metadata": {},
   "outputs": [],
   "source": [
    "class Playlist:\n",
    "    def __init__(self):\n",
    "        self._songs = []\n",
    "\n",
    "    def add_song(self, song):\n",
    "        self._songs.append(song)\n",
    "\n",
    "# Your solution here"
   ]
  },
  {
   "cell_type": "markdown",
   "metadata": {},
   "source": [
    "## Exercise 5: Data Tracker\n",
    "**Tasks:**\n",
    "1. Show what happens if data is modified after adding.\n",
    "2. Add get_versions() that returns a copy to prevent outside changes.\n",
    "\n",
    "**Hint:** Always return a new list when exposing mutable attributes."
   ]
  },
  {
   "cell_type": "code",
   "execution_count": null,
   "metadata": {},
   "outputs": [],
   "source": [
    "class DataTracker:\n",
    "    def __init__(self):\n",
    "        self._data_versions = []\n",
    "\n",
    "    def add_version(self, data):\n",
    "        self._data_versions.append(data)\n",
    "\n",
    "# Your solution here"
   ]
  }
 ],
 "metadata": {
  "kernelspec": {
   "display_name": "Python 3",
   "name": "python3"
  },
  "language_info": {
   "name": "python",
   "version": "3.13.5"
  }
 },
 "nbformat": 4,
 "nbformat_minor": 5
}
