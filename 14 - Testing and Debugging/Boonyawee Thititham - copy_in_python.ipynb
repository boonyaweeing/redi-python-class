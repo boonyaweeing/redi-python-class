{
 "cells": [
  {
   "cell_type": "markdown",
   "metadata": {},
   "source": [
    "# Understanding `.copy()` in Python\n",
    "This notebook will help understand how to copy lists and dictionaries in Python using `.copy()` and why it is different from using the assignment operator `=`."
   ]
  },
  {
   "cell_type": "markdown",
   "metadata": {},
   "source": [
    "## 1. Assignment vs Copy\n",
    "In Python, for mutable objects using `=` doesn't create a new object; it just creates a new reference to the same object. Let's see an example."
   ]
  },
  {
   "cell_type": "code",
   "execution_count": 1,
   "metadata": {},
   "outputs": [
    {
     "name": "stdout",
     "output_type": "stream",
     "text": [
      "a: [1, 2, 3, 4]\n",
      "b: [1, 2, 3, 4]\n"
     ]
    }
   ],
   "source": [
    "a = [1, 2, 3]\n",
    "b = a  # b points to the same list as a\n",
    "b.append(4)  # modify b\n",
    "print('a:', a)\n",
    "print('b:', b)"
   ]
  },
  {
   "cell_type": "markdown",
   "metadata": {},
   "source": [
    "Notice that both `a` and `b` changed. This is because they both refer to the **same list** in memory."
   ]
  },
  {
   "cell_type": "markdown",
   "metadata": {},
   "source": [
    "## 2. Using `.copy()`\n",
    "The `.copy()` method creates a **new list** or dictionary with the same content. Changes to the new object will **not** affect the original."
   ]
  },
  {
   "cell_type": "code",
   "execution_count": 2,
   "metadata": {},
   "outputs": [
    {
     "name": "stdout",
     "output_type": "stream",
     "text": [
      "a: [1, 2, 3]\n",
      "b: [1, 2, 3, 4]\n"
     ]
    }
   ],
   "source": [
    "a = [1, 2, 3]\n",
    "b = a.copy()  # create a shallow copy\n",
    "b.append(4)\n",
    "print('a:', a)\n",
    "print('b:', b)"
   ]
  },
  {
   "cell_type": "markdown",
   "metadata": {},
   "source": [
    "Now, `a` did not change when we modified `b`. They are independent lists."
   ]
  },
  {
   "cell_type": "markdown",
   "metadata": {},
   "source": [
    "## 3. Shallow Copy\n",
    "`.copy()` creates a **shallow copy**, which means it only copies the outer object. Nested objects like lists inside a list are **shared** between the copy and the original."
   ]
  },
  {
   "cell_type": "code",
   "execution_count": 3,
   "metadata": {},
   "outputs": [
    {
     "name": "stdout",
     "output_type": "stream",
     "text": [
      "a: [[1, 2, 99], [3, 4]]\n",
      "b: [[1, 2, 99], [3, 4]]\n"
     ]
    }
   ],
   "source": [
    "a = [[1, 2], [3, 4]]\n",
    "b = a.copy()  # shallow copy\n",
    "b[0].append(99)\n",
    "print('a:', a)\n",
    "print('b:', b)"
   ]
  },
  {
   "cell_type": "markdown",
   "metadata": {},
   "source": [
    "Notice that modifying `b[0]` also changed `a[0]`. This is because `.copy()` only copies the outer list, not the inner lists."
   ]
  },
  {
   "cell_type": "markdown",
   "metadata": {},
   "source": [
    "## 4. Copying Dictionaries\n",
    "You can also use `.copy()` with dictionaries to make a shallow copy."
   ]
  },
  {
   "cell_type": "code",
   "execution_count": 4,
   "metadata": {},
   "outputs": [
    {
     "name": "stdout",
     "output_type": "stream",
     "text": [
      "dict_a: {'x': 1, 'y': 2}\n",
      "dict_b: {'x': 1, 'y': 2, 'z': 3}\n"
     ]
    }
   ],
   "source": [
    "dict_a = {'x': 1, 'y': 2}\n",
    "dict_b = dict_a.copy()\n",
    "dict_b['z'] = 3\n",
    "print('dict_a:', dict_a)\n",
    "print('dict_b:', dict_b)"
   ]
  },
  {
   "cell_type": "markdown",
   "metadata": {},
   "source": [
    "Adding a new key to `dict_b` does not affect `dict_a`. They are separate dictionaries now."
   ]
  },
  {
   "cell_type": "markdown",
   "metadata": {},
   "source": [
    "## 5. Mini Exercises\n",
    "Try these exercises to practice what you learned:\n",
    "1. Create a list, copy it with `.copy()`, and modify the copy. Check if the original changes.\n",
    "2. Create a dictionary, copy it, add a new key to the copy, and check the original.\n",
    "3. Create a nested list, make a shallow copy, and modify an inner list. Observe the effect on the original."
   ]
  },
  {
   "cell_type": "markdown",
   "metadata": {},
   "source": [
    "## 6. Summary\n",
    "- Using `=` just references the same object.\n",
    "- Using `.copy()` creates a shallow copy (independent outer object).\n",
    "- For nested objects, `.copy()` does not copy inner objects — they are shared."
   ]
  }
 ],
 "metadata": {
  "kernelspec": {
   "display_name": "Python 3",
   "language": "python",
   "name": "python3"
  },
  "language_info": {
   "codemirror_mode": {
    "name": "ipython",
    "version": 3
   },
   "file_extension": ".py",
   "mimetype": "text/x-python",
   "name": "python",
   "nbconvert_exporter": "python",
   "pygments_lexer": "ipython3",
   "version": "3.13.5"
  }
 },
 "nbformat": 4,
 "nbformat_minor": 5
}
